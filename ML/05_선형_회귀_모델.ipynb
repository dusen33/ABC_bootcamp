{
  "nbformat": 4,
  "nbformat_minor": 0,
  "metadata": {
    "colab": {
      "provenance": []
    },
    "kernelspec": {
      "name": "python3",
      "display_name": "Python 3"
    },
    "language_info": {
      "name": "python"
    }
  },
  "cells": [
    {
      "cell_type": "code",
      "execution_count": null,
      "metadata": {
        "colab": {
          "base_uri": "https://localhost:8080/"
        },
        "id": "b9RHBNa3B_i2",
        "outputId": "f7846f4e-7137-4578-e1a9-a785b1a4b54a"
      },
      "outputs": [
        {
          "output_type": "stream",
          "name": "stdout",
          "text": [
            "Collecting mglearn\n",
            "  Downloading mglearn-0.2.0-py2.py3-none-any.whl (581 kB)\n",
            "\u001b[2K     \u001b[90m━━━━━━━━━━━━━━━━━━━━━━━━━━━━━━━━━━━━━━━\u001b[0m \u001b[32m581.4/581.4 kB\u001b[0m \u001b[31m4.5 MB/s\u001b[0m eta \u001b[36m0:00:00\u001b[0m\n",
            "\u001b[?25hRequirement already satisfied: numpy in /usr/local/lib/python3.10/dist-packages (from mglearn) (1.22.4)\n",
            "Requirement already satisfied: matplotlib in /usr/local/lib/python3.10/dist-packages (from mglearn) (3.7.1)\n",
            "Requirement already satisfied: scikit-learn in /usr/local/lib/python3.10/dist-packages (from mglearn) (1.2.2)\n",
            "Requirement already satisfied: pandas in /usr/local/lib/python3.10/dist-packages (from mglearn) (1.5.3)\n",
            "Requirement already satisfied: pillow in /usr/local/lib/python3.10/dist-packages (from mglearn) (9.4.0)\n",
            "Requirement already satisfied: cycler in /usr/local/lib/python3.10/dist-packages (from mglearn) (0.11.0)\n",
            "Requirement already satisfied: imageio in /usr/local/lib/python3.10/dist-packages (from mglearn) (2.25.1)\n",
            "Requirement already satisfied: joblib in /usr/local/lib/python3.10/dist-packages (from mglearn) (1.3.1)\n",
            "Requirement already satisfied: contourpy>=1.0.1 in /usr/local/lib/python3.10/dist-packages (from matplotlib->mglearn) (1.1.0)\n",
            "Requirement already satisfied: fonttools>=4.22.0 in /usr/local/lib/python3.10/dist-packages (from matplotlib->mglearn) (4.41.1)\n",
            "Requirement already satisfied: kiwisolver>=1.0.1 in /usr/local/lib/python3.10/dist-packages (from matplotlib->mglearn) (1.4.4)\n",
            "Requirement already satisfied: packaging>=20.0 in /usr/local/lib/python3.10/dist-packages (from matplotlib->mglearn) (23.1)\n",
            "Requirement already satisfied: pyparsing>=2.3.1 in /usr/local/lib/python3.10/dist-packages (from matplotlib->mglearn) (3.1.0)\n",
            "Requirement already satisfied: python-dateutil>=2.7 in /usr/local/lib/python3.10/dist-packages (from matplotlib->mglearn) (2.8.2)\n",
            "Requirement already satisfied: pytz>=2020.1 in /usr/local/lib/python3.10/dist-packages (from pandas->mglearn) (2022.7.1)\n",
            "Requirement already satisfied: scipy>=1.3.2 in /usr/local/lib/python3.10/dist-packages (from scikit-learn->mglearn) (1.10.1)\n",
            "Requirement already satisfied: threadpoolctl>=2.0.0 in /usr/local/lib/python3.10/dist-packages (from scikit-learn->mglearn) (3.2.0)\n",
            "Requirement already satisfied: six>=1.5 in /usr/local/lib/python3.10/dist-packages (from python-dateutil>=2.7->matplotlib->mglearn) (1.16.0)\n",
            "Installing collected packages: mglearn\n",
            "Successfully installed mglearn-0.2.0\n",
            "Collecting koreanize-matplotlib\n",
            "  Downloading koreanize_matplotlib-0.1.1-py3-none-any.whl (7.9 MB)\n",
            "\u001b[2K     \u001b[90m━━━━━━━━━━━━━━━━━━━━━━━━━━━━━━━━━━━━━━━━\u001b[0m \u001b[32m7.9/7.9 MB\u001b[0m \u001b[31m37.8 MB/s\u001b[0m eta \u001b[36m0:00:00\u001b[0m\n",
            "\u001b[?25hRequirement already satisfied: matplotlib in /usr/local/lib/python3.10/dist-packages (from koreanize-matplotlib) (3.7.1)\n",
            "Requirement already satisfied: contourpy>=1.0.1 in /usr/local/lib/python3.10/dist-packages (from matplotlib->koreanize-matplotlib) (1.1.0)\n",
            "Requirement already satisfied: cycler>=0.10 in /usr/local/lib/python3.10/dist-packages (from matplotlib->koreanize-matplotlib) (0.11.0)\n",
            "Requirement already satisfied: fonttools>=4.22.0 in /usr/local/lib/python3.10/dist-packages (from matplotlib->koreanize-matplotlib) (4.41.1)\n",
            "Requirement already satisfied: kiwisolver>=1.0.1 in /usr/local/lib/python3.10/dist-packages (from matplotlib->koreanize-matplotlib) (1.4.4)\n",
            "Requirement already satisfied: numpy>=1.20 in /usr/local/lib/python3.10/dist-packages (from matplotlib->koreanize-matplotlib) (1.22.4)\n",
            "Requirement already satisfied: packaging>=20.0 in /usr/local/lib/python3.10/dist-packages (from matplotlib->koreanize-matplotlib) (23.1)\n",
            "Requirement already satisfied: pillow>=6.2.0 in /usr/local/lib/python3.10/dist-packages (from matplotlib->koreanize-matplotlib) (9.4.0)\n",
            "Requirement already satisfied: pyparsing>=2.3.1 in /usr/local/lib/python3.10/dist-packages (from matplotlib->koreanize-matplotlib) (3.1.0)\n",
            "Requirement already satisfied: python-dateutil>=2.7 in /usr/local/lib/python3.10/dist-packages (from matplotlib->koreanize-matplotlib) (2.8.2)\n",
            "Requirement already satisfied: six>=1.5 in /usr/local/lib/python3.10/dist-packages (from python-dateutil>=2.7->matplotlib->koreanize-matplotlib) (1.16.0)\n",
            "Installing collected packages: koreanize-matplotlib\n",
            "Successfully installed koreanize-matplotlib-0.1.1\n"
          ]
        }
      ],
      "source": [
        "!pip install mglearn\n",
        "!pip install koreanize-matplotlib"
      ]
    },
    {
      "cell_type": "markdown",
      "source": [
        "# 선형 모델 - 선형 회귀(최소제곱법)\n",
        "\n",
        "*   선형 회귀(linear regression)\n",
        "*   예측과 훈련 세트에 있는 타깃 y 사이의 평균제곱오차(mean squared error)를 최소화하는 파라미터 w와 b를 찾는 것"
      ],
      "metadata": {
        "id": "fQT5ejKNCQe7"
      }
    },
    {
      "cell_type": "markdown",
      "source": [
        "## 데이터 준비하기"
      ],
      "metadata": {
        "id": "HZOsG-M3CwP6"
      }
    },
    {
      "cell_type": "code",
      "source": [
        "import mglearn\n",
        "from sklearn.linear_model import LinearRegression\n",
        "from sklearn.model_selection import train_test_split\n",
        "import warnings\n",
        "warnings.filterwarnings('ignore')\n",
        "\n",
        "X,y = mglearn.datasets.make_wave(n_samples=1000)"
      ],
      "metadata": {
        "id": "vv7Gt_DSCnZ1"
      },
      "execution_count": null,
      "outputs": []
    },
    {
      "cell_type": "markdown",
      "source": [
        "## 성능평가를 위한 데이터 분리하기(train/test)"
      ],
      "metadata": {
        "id": "lbR9HVxvDa5n"
      }
    },
    {
      "cell_type": "code",
      "source": [
        "X_train, X_test, y_train, y_test = train_test_split(X, y, test_size=0.2, random_state=7)"
      ],
      "metadata": {
        "id": "B8kQmut4De9J"
      },
      "execution_count": null,
      "outputs": []
    },
    {
      "cell_type": "code",
      "source": [
        "X_train.shape"
      ],
      "metadata": {
        "colab": {
          "base_uri": "https://localhost:8080/"
        },
        "id": "DackgvXcDffh",
        "outputId": "46c4f6be-0d5f-437d-d7ba-6faac2d18ddf"
      },
      "execution_count": null,
      "outputs": [
        {
          "output_type": "execute_result",
          "data": {
            "text/plain": [
              "(800, 1)"
            ]
          },
          "metadata": {},
          "execution_count": 15
        }
      ]
    },
    {
      "cell_type": "code",
      "source": [
        "X_test.shape"
      ],
      "metadata": {
        "colab": {
          "base_uri": "https://localhost:8080/"
        },
        "id": "uzCfagroDfd7",
        "outputId": "9d1f4084-3ae4-43a3-ed12-01c2fc571d99"
      },
      "execution_count": null,
      "outputs": [
        {
          "output_type": "execute_result",
          "data": {
            "text/plain": [
              "(200, 1)"
            ]
          },
          "metadata": {},
          "execution_count": 16
        }
      ]
    },
    {
      "cell_type": "markdown",
      "source": [
        "## LinearRegression 모델 설정하기"
      ],
      "metadata": {
        "id": "UClBSN2-DxG7"
      }
    },
    {
      "cell_type": "code",
      "source": [
        "lr = LinearRegression()"
      ],
      "metadata": {
        "id": "SJWL3i3EDfbw"
      },
      "execution_count": null,
      "outputs": []
    },
    {
      "cell_type": "markdown",
      "source": [
        "## LinearRegression 모델 학습하기"
      ],
      "metadata": {
        "id": "BHrNYUKtEAqk"
      }
    },
    {
      "cell_type": "code",
      "source": [
        "lr.fit(X_train, y_train)"
      ],
      "metadata": {
        "colab": {
          "base_uri": "https://localhost:8080/",
          "height": 74
        },
        "id": "z1BufAx9DfXd",
        "outputId": "8786b09b-8e1b-4854-8d5a-a3d3f800691a"
      },
      "execution_count": null,
      "outputs": [
        {
          "output_type": "execute_result",
          "data": {
            "text/plain": [
              "LinearRegression()"
            ],
            "text/html": [
              "<style>#sk-container-id-2 {color: black;background-color: white;}#sk-container-id-2 pre{padding: 0;}#sk-container-id-2 div.sk-toggleable {background-color: white;}#sk-container-id-2 label.sk-toggleable__label {cursor: pointer;display: block;width: 100%;margin-bottom: 0;padding: 0.3em;box-sizing: border-box;text-align: center;}#sk-container-id-2 label.sk-toggleable__label-arrow:before {content: \"▸\";float: left;margin-right: 0.25em;color: #696969;}#sk-container-id-2 label.sk-toggleable__label-arrow:hover:before {color: black;}#sk-container-id-2 div.sk-estimator:hover label.sk-toggleable__label-arrow:before {color: black;}#sk-container-id-2 div.sk-toggleable__content {max-height: 0;max-width: 0;overflow: hidden;text-align: left;background-color: #f0f8ff;}#sk-container-id-2 div.sk-toggleable__content pre {margin: 0.2em;color: black;border-radius: 0.25em;background-color: #f0f8ff;}#sk-container-id-2 input.sk-toggleable__control:checked~div.sk-toggleable__content {max-height: 200px;max-width: 100%;overflow: auto;}#sk-container-id-2 input.sk-toggleable__control:checked~label.sk-toggleable__label-arrow:before {content: \"▾\";}#sk-container-id-2 div.sk-estimator input.sk-toggleable__control:checked~label.sk-toggleable__label {background-color: #d4ebff;}#sk-container-id-2 div.sk-label input.sk-toggleable__control:checked~label.sk-toggleable__label {background-color: #d4ebff;}#sk-container-id-2 input.sk-hidden--visually {border: 0;clip: rect(1px 1px 1px 1px);clip: rect(1px, 1px, 1px, 1px);height: 1px;margin: -1px;overflow: hidden;padding: 0;position: absolute;width: 1px;}#sk-container-id-2 div.sk-estimator {font-family: monospace;background-color: #f0f8ff;border: 1px dotted black;border-radius: 0.25em;box-sizing: border-box;margin-bottom: 0.5em;}#sk-container-id-2 div.sk-estimator:hover {background-color: #d4ebff;}#sk-container-id-2 div.sk-parallel-item::after {content: \"\";width: 100%;border-bottom: 1px solid gray;flex-grow: 1;}#sk-container-id-2 div.sk-label:hover label.sk-toggleable__label {background-color: #d4ebff;}#sk-container-id-2 div.sk-serial::before {content: \"\";position: absolute;border-left: 1px solid gray;box-sizing: border-box;top: 0;bottom: 0;left: 50%;z-index: 0;}#sk-container-id-2 div.sk-serial {display: flex;flex-direction: column;align-items: center;background-color: white;padding-right: 0.2em;padding-left: 0.2em;position: relative;}#sk-container-id-2 div.sk-item {position: relative;z-index: 1;}#sk-container-id-2 div.sk-parallel {display: flex;align-items: stretch;justify-content: center;background-color: white;position: relative;}#sk-container-id-2 div.sk-item::before, #sk-container-id-2 div.sk-parallel-item::before {content: \"\";position: absolute;border-left: 1px solid gray;box-sizing: border-box;top: 0;bottom: 0;left: 50%;z-index: -1;}#sk-container-id-2 div.sk-parallel-item {display: flex;flex-direction: column;z-index: 1;position: relative;background-color: white;}#sk-container-id-2 div.sk-parallel-item:first-child::after {align-self: flex-end;width: 50%;}#sk-container-id-2 div.sk-parallel-item:last-child::after {align-self: flex-start;width: 50%;}#sk-container-id-2 div.sk-parallel-item:only-child::after {width: 0;}#sk-container-id-2 div.sk-dashed-wrapped {border: 1px dashed gray;margin: 0 0.4em 0.5em 0.4em;box-sizing: border-box;padding-bottom: 0.4em;background-color: white;}#sk-container-id-2 div.sk-label label {font-family: monospace;font-weight: bold;display: inline-block;line-height: 1.2em;}#sk-container-id-2 div.sk-label-container {text-align: center;}#sk-container-id-2 div.sk-container {/* jupyter's `normalize.less` sets `[hidden] { display: none; }` but bootstrap.min.css set `[hidden] { display: none !important; }` so we also need the `!important` here to be able to override the default hidden behavior on the sphinx rendered scikit-learn.org. See: https://github.com/scikit-learn/scikit-learn/issues/21755 */display: inline-block !important;position: relative;}#sk-container-id-2 div.sk-text-repr-fallback {display: none;}</style><div id=\"sk-container-id-2\" class=\"sk-top-container\"><div class=\"sk-text-repr-fallback\"><pre>LinearRegression()</pre><b>In a Jupyter environment, please rerun this cell to show the HTML representation or trust the notebook. <br />On GitHub, the HTML representation is unable to render, please try loading this page with nbviewer.org.</b></div><div class=\"sk-container\" hidden><div class=\"sk-item\"><div class=\"sk-estimator sk-toggleable\"><input class=\"sk-toggleable__control sk-hidden--visually\" id=\"sk-estimator-id-2\" type=\"checkbox\" checked><label for=\"sk-estimator-id-2\" class=\"sk-toggleable__label sk-toggleable__label-arrow\">LinearRegression</label><div class=\"sk-toggleable__content\"><pre>LinearRegression()</pre></div></div></div></div></div>"
            ]
          },
          "metadata": {},
          "execution_count": 18
        }
      ]
    },
    {
      "cell_type": "markdown",
      "source": [
        "## lr 모델 객체 확인하기"
      ],
      "metadata": {
        "id": "Pkk6UWc6ESoH"
      }
    },
    {
      "cell_type": "code",
      "source": [
        "print('lr.coef_: ', lr.coef_) # 가중치(w)\n",
        "print('lr.intersept_: ', lr.intercept_) # 절편(b)"
      ],
      "metadata": {
        "colab": {
          "base_uri": "https://localhost:8080/"
        },
        "id": "zB4BaHCuEVTk",
        "outputId": "40685214-b6c4-4d48-abc4-4f2f2a0c66ff"
      },
      "execution_count": null,
      "outputs": [
        {
          "output_type": "stream",
          "name": "stdout",
          "text": [
            "lr.coef_:  [0.45404273]\n",
            "lr.intersept_:  0.06344329931193858\n"
          ]
        }
      ]
    },
    {
      "cell_type": "markdown",
      "source": [
        "## 성능평가"
      ],
      "metadata": {
        "id": "bExZZxEtFFNq"
      }
    },
    {
      "cell_type": "code",
      "source": [
        "# score() 메서드 -> 결정계수 R2(0~1)\n",
        "# 훈련데이터, 테스트데이터의 차이를 확인 -> LinearRegression -> 과소적합 상태 -> 모델 변경\n",
        "\n",
        "print('훈련 데이터셋의 R2: ', lr.score(X_train, y_train))\n",
        "print('훈련 데이터셋의 R2: ', lr.score(X_test, y_test))"
      ],
      "metadata": {
        "colab": {
          "base_uri": "https://localhost:8080/"
        },
        "id": "BOvBWDYkDfQi",
        "outputId": "a3c16c99-08c4-4ea7-c917-6bf7721da1c5"
      },
      "execution_count": null,
      "outputs": [
        {
          "output_type": "stream",
          "name": "stdout",
          "text": [
            "훈련 데이터셋의 R2:  0.6111056169125761\n",
            "훈련 데이터셋의 R2:  0.6504031920563491\n"
          ]
        }
      ]
    },
    {
      "cell_type": "markdown",
      "source": [
        "# 보스톤 주택가격 데이터셋을 활용한 선형회귀(최소제곱법) 성능 평가"
      ],
      "metadata": {
        "id": "oXWZMFQ-LLjg"
      }
    },
    {
      "cell_type": "markdown",
      "source": [
        "## 데이터 준비하기"
      ],
      "metadata": {
        "id": "-Ufqn4_RLbDb"
      }
    },
    {
      "cell_type": "code",
      "source": [
        "X, y = mglearn.datasets.load_extended_boston()\n",
        "X.shape"
      ],
      "metadata": {
        "colab": {
          "base_uri": "https://localhost:8080/"
        },
        "id": "DV-PnKpUGYTX",
        "outputId": "330c06c9-7f03-440d-8b39-01beea99d8a0"
      },
      "execution_count": null,
      "outputs": [
        {
          "output_type": "execute_result",
          "data": {
            "text/plain": [
              "(506, 104)"
            ]
          },
          "metadata": {},
          "execution_count": 21
        }
      ]
    },
    {
      "cell_type": "markdown",
      "source": [
        "## 성능 평가를 위한 데이터 분리하기"
      ],
      "metadata": {
        "id": "BH7OrzSyLrj8"
      }
    },
    {
      "cell_type": "code",
      "source": [
        "X_train, X_test, y_train, y_test = train_test_split(X, y, test_size=0.2, random_state=7)"
      ],
      "metadata": {
        "id": "h6OPfPbHGYRG"
      },
      "execution_count": null,
      "outputs": []
    },
    {
      "cell_type": "code",
      "source": [
        "X_train.shape"
      ],
      "metadata": {
        "colab": {
          "base_uri": "https://localhost:8080/"
        },
        "id": "5BAq5sxhGYO1",
        "outputId": "f47c5cb9-359a-4737-fe2b-91b91a0c6ef4"
      },
      "execution_count": null,
      "outputs": [
        {
          "output_type": "execute_result",
          "data": {
            "text/plain": [
              "(404, 104)"
            ]
          },
          "metadata": {},
          "execution_count": 23
        }
      ]
    },
    {
      "cell_type": "code",
      "source": [
        "X_test.shape"
      ],
      "metadata": {
        "colab": {
          "base_uri": "https://localhost:8080/"
        },
        "id": "L1VdmxLXGYML",
        "outputId": "00050aca-74be-4546-cb5b-e9632b96a1c1"
      },
      "execution_count": null,
      "outputs": [
        {
          "output_type": "execute_result",
          "data": {
            "text/plain": [
              "(102, 104)"
            ]
          },
          "metadata": {},
          "execution_count": 24
        }
      ]
    },
    {
      "cell_type": "markdown",
      "source": [
        "## 모델 객체 생성 및 학습하기"
      ],
      "metadata": {
        "id": "jJmZVLSmL7Zz"
      }
    },
    {
      "cell_type": "code",
      "source": [
        "lr = LinearRegression().fit(X_train, y_train)"
      ],
      "metadata": {
        "id": "veWGIc2qGYKS"
      },
      "execution_count": null,
      "outputs": []
    },
    {
      "cell_type": "code",
      "source": [
        "print('lr.coef_: ', lr.coef_) # 가중치(w)\n",
        "print('lr.intersept_: ', lr.intercept_) # 절편(b)"
      ],
      "metadata": {
        "colab": {
          "base_uri": "https://localhost:8080/"
        },
        "id": "Lj4GH0KCMMfI",
        "outputId": "b0e9293a-fb61-40cc-c3f9-735f6ce25539"
      },
      "execution_count": null,
      "outputs": [
        {
          "output_type": "stream",
          "name": "stdout",
          "text": [
            "lr.coef_:  [-5.63015585e+00 -1.44489362e+01 -7.31933238e+01 -1.98523904e+01\n",
            "  1.43981674e+01  6.29580900e+01  4.27482376e+01 -4.76032892e+01\n",
            "  2.26086629e+01  1.48055953e+01  2.20077145e+01  3.93957255e+01\n",
            "  1.81438025e+00  1.33337574e+01  1.87466575e+03  6.37221177e+02\n",
            " -1.31038944e+02 -1.20938309e+02 -2.37045465e+00 -3.68933785e+01\n",
            " -2.20071834e+02  4.01555398e+02 -8.67992886e+02  8.74646718e+01\n",
            " -4.61668645e+00  2.06492685e+01 -5.45855470e+00 -1.85264017e+01\n",
            " -5.65521977e+00 -4.60866434e+01  1.17383927e+01 -2.57730999e+00\n",
            " -1.15290539e+01 -1.01664949e+01  2.40521375e+01 -2.10458222e+00\n",
            "  2.18704948e+01 -9.28723971e-01  3.18965157e+01  5.15120387e+00\n",
            "  2.01339256e+01  2.39232272e+01  7.26172774e+00  4.23678704e+01\n",
            "  8.87640652e+00  1.22142343e+01 -4.73183685e+00  2.30770952e+01\n",
            " -2.29170775e+01 -1.98523904e+01 -4.24765037e+00 -1.24076967e+01\n",
            " -9.16452030e-01  4.58417242e+01  5.46179213e+00  3.22110780e+01\n",
            " -4.75447874e+00  3.43124360e+01  1.62343066e+00 -1.03801987e+01\n",
            " -6.13663385e+00 -1.51731622e+01  6.40380325e+01 -1.25700695e+01\n",
            "  3.42955350e+01 -3.62130943e+01 -1.01705396e+01  2.24046983e+01\n",
            "  1.06266065e+01 -2.19427302e+01 -5.35447868e+00  2.84866740e+00\n",
            " -4.05656061e+01 -2.13190902e+01 -2.85955421e+00 -2.28014220e+01\n",
            " -6.03665360e-01 -1.44769650e+00  3.51470788e+01 -2.94126213e+01\n",
            " -3.12796587e+00 -2.78041983e+01 -2.31900115e+01  4.75503729e+01\n",
            " -1.70539672e+01 -1.83487673e+01 -1.91326967e+01  3.67661684e+00\n",
            "  1.68170830e+01 -8.45761672e+01  9.74074593e+01 -2.54315260e+01\n",
            " -2.66377005e+00 -2.17219602e+01 -1.84814136e+01  2.00931972e+01\n",
            " -7.00974179e+00 -1.00026749e+01  3.01564177e+00 -3.45677402e+00\n",
            "  1.39424170e+01 -6.82628553e+00 -3.47635781e+00  2.42333163e+01]\n",
            "lr.intersept_:  -28.281027201000068\n"
          ]
        }
      ]
    },
    {
      "cell_type": "markdown",
      "source": [
        "## 성능 평가"
      ],
      "metadata": {
        "id": "Je6_uBOWN0gr"
      }
    },
    {
      "cell_type": "code",
      "source": [
        "# score() 메서드 -> 결정계수 R2(0~1)\n",
        "# 훈련데이터, 테스트데이터의 차이를 확인 -> LinearRegression -> 과대적합\n",
        "# 모델 복잡도 높음 -> 모델 단순화 -> feature 선택 -> 모델에서는 설정 불가능 -> 모델 변경\n",
        "print('훈련 데이터셋의 R2: ', lr.score(X_train, y_train))\n",
        "print('훈련 데이터셋의 R2: ', lr.score(X_test, y_test))"
      ],
      "metadata": {
        "colab": {
          "base_uri": "https://localhost:8080/"
        },
        "id": "VJIIc6OfMyYo",
        "outputId": "5d0c110d-427a-4ee1-aad9-a6c90e844099"
      },
      "execution_count": null,
      "outputs": [
        {
          "output_type": "stream",
          "name": "stdout",
          "text": [
            "훈련 데이터셋의 R2:  0.9336498571509425\n",
            "훈련 데이터셋의 R2:  0.6178623855523527\n"
          ]
        }
      ]
    },
    {
      "cell_type": "markdown",
      "source": [
        "## 릿지회귀 모델\n",
        "\n",
        "*   규제를 통해서 과대적합되지 않기 위한 선형모델 -> l2 규제\n",
        "*   모든 feature를 사용하되, 필요없는 feature는 가중치를 0과 가깝게 부여"
      ],
      "metadata": {
        "id": "S2bfwBrgPF3_"
      }
    },
    {
      "cell_type": "code",
      "source": [
        "from sklearn.linear_model import Ridge\n",
        "\n",
        "ridge = Ridge(alpha=1).fit(X_train, y_train) #alpha=1 규제 기본값"
      ],
      "metadata": {
        "id": "XCQqrVCHNzKq"
      },
      "execution_count": null,
      "outputs": []
    },
    {
      "cell_type": "markdown",
      "source": [
        "## 릿지회귀 성능 평가"
      ],
      "metadata": {
        "id": "ANk8KJ4HPzQG"
      }
    },
    {
      "cell_type": "code",
      "source": [
        "# score() 메서드 -> 결정계수 R2(0~1)\n",
        "# 훈련데이터, 테스트데이터의 차이를 확인 -> Ridge\n",
        "print('훈련 데이터셋의 R2: ', ridge.score(X_train, y_train))\n",
        "print('훈련 데이터셋의 R2: ', ridge.score(X_test, y_test))"
      ],
      "metadata": {
        "colab": {
          "base_uri": "https://localhost:8080/"
        },
        "id": "VXHy1qI1P1AE",
        "outputId": "d5e1a020-38ac-4954-a495-fa5b1d9fa6f0"
      },
      "execution_count": null,
      "outputs": [
        {
          "output_type": "stream",
          "name": "stdout",
          "text": [
            "훈련 데이터셋의 R2:  0.8806787008982203\n",
            "훈련 데이터셋의 R2:  0.707799070856506\n"
          ]
        }
      ]
    },
    {
      "cell_type": "code",
      "source": [
        "# alpha=10으로 값을 올리면 -> 규제 강화 -> 공부 덜 하기 -> 과소적합\n",
        "ridge10 = Ridge(alpha=10).fit(X_train, y_train) #alpha=1 규제 기본값\n",
        "print('훈련 데이터셋의 R2: ', ridge10.score(X_train, y_train))\n",
        "print('훈련 데이터셋의 R2: ', ridge10.score(X_test, y_test))"
      ],
      "metadata": {
        "colab": {
          "base_uri": "https://localhost:8080/"
        },
        "id": "ooQutwdQQivs",
        "outputId": "62bc176c-6911-49a2-f78b-e7dfb085513a"
      },
      "execution_count": null,
      "outputs": [
        {
          "output_type": "stream",
          "name": "stdout",
          "text": [
            "훈련 데이터셋의 R2:  0.7908722952663969\n",
            "훈련 데이터셋의 R2:  0.6335547164603428\n"
          ]
        }
      ]
    },
    {
      "cell_type": "code",
      "source": [
        "# alpha=0.1 -> 규제 약화 -> 공부 더 하기 -> 과대적합\n",
        "ridge01 = Ridge(alpha=0.1).fit(X_train, y_train) #alpha=1 규제 기본값\n",
        "print('훈련 데이터셋의 R2: ', ridge01.score(X_train, y_train))\n",
        "print('훈련 데이터셋의 R2: ', ridge01.score(X_test, y_test))"
      ],
      "metadata": {
        "colab": {
          "base_uri": "https://localhost:8080/"
        },
        "id": "PY85lUH6ROjs",
        "outputId": "5886e055-fd2f-4335-bb8a-2edb7fc23f9f"
      },
      "execution_count": null,
      "outputs": [
        {
          "output_type": "stream",
          "name": "stdout",
          "text": [
            "훈련 데이터셋의 R2:  0.9145906832991393\n",
            "훈련 데이터셋의 R2:  0.7621838655257718\n"
          ]
        }
      ]
    },
    {
      "cell_type": "code",
      "source": [
        "# alpha=0.01 -> 규제 약화 -> 공부 더 하기 -> 모델 선택\n",
        "ridge001 = Ridge(alpha=0.01).fit(X_train, y_train) #alpha=1 규제 기본값\n",
        "print('훈련 데이터셋의 R2: ', ridge001.score(X_train, y_train))\n",
        "print('훈련 데이터셋의 R2: ', ridge001.score(X_test, y_test))"
      ],
      "metadata": {
        "colab": {
          "base_uri": "https://localhost:8080/"
        },
        "id": "TxNEmnewR8rw",
        "outputId": "30487e4a-c09d-4765-ef1c-0417adf2be34"
      },
      "execution_count": null,
      "outputs": [
        {
          "output_type": "stream",
          "name": "stdout",
          "text": [
            "훈련 데이터셋의 R2:  0.9286975636261607\n",
            "훈련 데이터셋의 R2:  0.7814686059871749\n"
          ]
        }
      ]
    },
    {
      "cell_type": "code",
      "source": [
        "print('lr.coef_: ', lr.coef_) # 가중치(w)\n",
        "print('lr.intersept_: ', lr.intercept_) # 절편(b)"
      ],
      "metadata": {
        "colab": {
          "base_uri": "https://localhost:8080/"
        },
        "id": "e7c2kzv3P-GD",
        "outputId": "22e31657-c9a9-439f-d9ac-1b1b48643b36"
      },
      "execution_count": null,
      "outputs": [
        {
          "output_type": "stream",
          "name": "stdout",
          "text": [
            "lr.coef_:  [-5.63015585e+00 -1.44489362e+01 -7.31933238e+01 -1.98523904e+01\n",
            "  1.43981674e+01  6.29580900e+01  4.27482376e+01 -4.76032892e+01\n",
            "  2.26086629e+01  1.48055953e+01  2.20077145e+01  3.93957255e+01\n",
            "  1.81438025e+00  1.33337574e+01  1.87466575e+03  6.37221177e+02\n",
            " -1.31038944e+02 -1.20938309e+02 -2.37045465e+00 -3.68933785e+01\n",
            " -2.20071834e+02  4.01555398e+02 -8.67992886e+02  8.74646718e+01\n",
            " -4.61668645e+00  2.06492685e+01 -5.45855470e+00 -1.85264017e+01\n",
            " -5.65521977e+00 -4.60866434e+01  1.17383927e+01 -2.57730999e+00\n",
            " -1.15290539e+01 -1.01664949e+01  2.40521375e+01 -2.10458222e+00\n",
            "  2.18704948e+01 -9.28723971e-01  3.18965157e+01  5.15120387e+00\n",
            "  2.01339256e+01  2.39232272e+01  7.26172774e+00  4.23678704e+01\n",
            "  8.87640652e+00  1.22142343e+01 -4.73183685e+00  2.30770952e+01\n",
            " -2.29170775e+01 -1.98523904e+01 -4.24765037e+00 -1.24076967e+01\n",
            " -9.16452030e-01  4.58417242e+01  5.46179213e+00  3.22110780e+01\n",
            " -4.75447874e+00  3.43124360e+01  1.62343066e+00 -1.03801987e+01\n",
            " -6.13663385e+00 -1.51731622e+01  6.40380325e+01 -1.25700695e+01\n",
            "  3.42955350e+01 -3.62130943e+01 -1.01705396e+01  2.24046983e+01\n",
            "  1.06266065e+01 -2.19427302e+01 -5.35447868e+00  2.84866740e+00\n",
            " -4.05656061e+01 -2.13190902e+01 -2.85955421e+00 -2.28014220e+01\n",
            " -6.03665360e-01 -1.44769650e+00  3.51470788e+01 -2.94126213e+01\n",
            " -3.12796587e+00 -2.78041983e+01 -2.31900115e+01  4.75503729e+01\n",
            " -1.70539672e+01 -1.83487673e+01 -1.91326967e+01  3.67661684e+00\n",
            "  1.68170830e+01 -8.45761672e+01  9.74074593e+01 -2.54315260e+01\n",
            " -2.66377005e+00 -2.17219602e+01 -1.84814136e+01  2.00931972e+01\n",
            " -7.00974179e+00 -1.00026749e+01  3.01564177e+00 -3.45677402e+00\n",
            "  1.39424170e+01 -6.82628553e+00 -3.47635781e+00  2.42333163e+01]\n",
            "lr.intersept_:  -28.281027201000068\n"
          ]
        }
      ]
    },
    {
      "cell_type": "markdown",
      "source": [
        "## 라쏘회귀 모델\n",
        "\n",
        "*   규제를 통해서 과대적합되지 않기 위한 선형모델 -> l1 규제\n",
        "*   모든 feature를 사용하지않고, 필요없는 feature는 가중치를 0부여"
      ],
      "metadata": {
        "id": "8R7MFT6cTeW9"
      }
    },
    {
      "cell_type": "code",
      "source": [
        "from sklearn.linear_model import Lasso\n",
        "\n",
        "lasso = Lasso().fit(X_train, y_train) # alpah=1 규제 기본값"
      ],
      "metadata": {
        "id": "piVf4oPsTrll"
      },
      "execution_count": null,
      "outputs": []
    },
    {
      "cell_type": "markdown",
      "source": [
        "### 라쏘 회귀 모델"
      ],
      "metadata": {
        "id": "SR7OmbITT_cx"
      }
    },
    {
      "cell_type": "code",
      "source": [
        "import numpy as np\n",
        "\n",
        "# score() 메서드 -> 결정계수 R2(0~1)\n",
        "# 훈련데이터, 테스트데이터의 차이를 확인 -> Lasso -> 과소적합 -> 규제완화\n",
        "print('훈련 데이터셋의 R2: ', lasso.score(X_train, y_train))\n",
        "print('훈련 데이터셋의 R2: ', lasso.score(X_test, y_test))\n",
        "print('학습에 사용한 특성 개수: ', np.sum(lasso.coef_!=0))"
      ],
      "metadata": {
        "colab": {
          "base_uri": "https://localhost:8080/"
        },
        "id": "5WlUpQiCTriC",
        "outputId": "4675a86f-3a79-431c-fd05-84a3120a2f77"
      },
      "execution_count": null,
      "outputs": [
        {
          "output_type": "stream",
          "name": "stdout",
          "text": [
            "훈련 데이터셋의 R2:  0.2554000167955146\n",
            "훈련 데이터셋의 R2:  0.24137475669021935\n",
            "학습에 사용한 특성 개수:  4\n"
          ]
        }
      ]
    },
    {
      "cell_type": "code",
      "source": [
        "lasso001 = Lasso(alpha=0.001).fit(X_train, y_train) # 모델 선택\n",
        "\n",
        "print('훈련 데이터셋의 R2: ', lasso001.score(X_train, y_train))\n",
        "print('훈련 데이터셋의 R2: ', lasso001.score(X_test, y_test))\n",
        "print('학습에 사용한 특성 개수: ', np.sum(lasso001.coef_!=0))"
      ],
      "metadata": {
        "colab": {
          "base_uri": "https://localhost:8080/"
        },
        "id": "RajZKtkXVGOl",
        "outputId": "3c10011f-2fe0-4ab6-f703-dc9c3115ed56"
      },
      "execution_count": null,
      "outputs": [
        {
          "output_type": "stream",
          "name": "stdout",
          "text": [
            "훈련 데이터셋의 R2:  0.9192175057257943\n",
            "훈련 데이터셋의 R2:  0.7751295888316917\n",
            "학습에 사용한 특성 개수:  80\n"
          ]
        }
      ]
    },
    {
      "cell_type": "code",
      "source": [
        "lasso01 = Lasso(alpha=0.01).fit(X_train, y_train)\n",
        "\n",
        "print('훈련 데이터셋의 R2: ', lasso01.score(X_train, y_train))\n",
        "print('훈련 데이터셋의 R2: ', lasso01.score(X_test, y_test))\n",
        "print('학습에 사용한 특성 개수: ', np.sum(lasso01.coef_!=0))"
      ],
      "metadata": {
        "colab": {
          "base_uri": "https://localhost:8080/"
        },
        "id": "lNkooOcfViLK",
        "outputId": "de08b525-c9a1-4f63-8b5f-a4177f7585ab"
      },
      "execution_count": null,
      "outputs": [
        {
          "output_type": "stream",
          "name": "stdout",
          "text": [
            "훈련 데이터셋의 R2:  0.8894180699044707\n",
            "훈련 데이터셋의 R2:  0.6630626741771697\n",
            "학습에 사용한 특성 개수:  29\n"
          ]
        }
      ]
    },
    {
      "cell_type": "code",
      "source": [
        "print('lr.coef_: ', lasso.coef_) # 가중치(w)\n",
        "print('lr.intersept_: ', lasso.intercept_) # 절편(b)"
      ],
      "metadata": {
        "colab": {
          "base_uri": "https://localhost:8080/"
        },
        "id": "o3d6KwQ6Trfo",
        "outputId": "f9e9bfe5-7c80-4c7b-a030-7307ffcae285"
      },
      "execution_count": null,
      "outputs": [
        {
          "output_type": "stream",
          "name": "stdout",
          "text": [
            "lr.coef_:  [-0.          0.         -0.          0.         -0.          0.\n",
            " -0.          0.         -0.         -0.         -0.          0.\n",
            " -6.99403879 -0.          0.         -0.          0.         -0.\n",
            " -0.         -0.         -0.         -0.         -0.         -0.\n",
            " -0.         -0.          0.          0.          0.          0.\n",
            "  0.          0.          0.          0.          0.          0.\n",
            "  0.          0.         -0.          0.         -0.         -0.\n",
            " -0.         -0.         -0.         -0.         -0.         -0.\n",
            " -0.          0.          0.          0.          0.          0.\n",
            "  0.          0.          0.          0.          0.         -0.\n",
            " -0.         -0.         -0.         -0.         -0.         -0.\n",
            " -0.         -0.          0.          0.          0.         -0.\n",
            " -0.         -0.          0.         -0.         -0.          0.\n",
            " -0.         -0.05075119 -0.75936583 -0.         -0.          0.\n",
            " -0.         -0.         -0.          0.         -0.         -1.29108473\n",
            " -0.         -0.         -0.         -0.         -0.         -0.\n",
            " -0.         -0.         -0.         -0.         -0.          0.\n",
            " -0.         -0.        ]\n",
            "lr.intersept_:  25.330746519421307\n"
          ]
        }
      ]
    }
  ]
}