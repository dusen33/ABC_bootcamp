{
  "nbformat": 4,
  "nbformat_minor": 0,
  "metadata": {
    "colab": {
      "provenance": []
    },
    "kernelspec": {
      "name": "python3",
      "display_name": "Python 3"
    },
    "language_info": {
      "name": "python"
    }
  },
  "cells": [
    {
      "cell_type": "markdown",
      "source": [
        "# MNIST 데이터셋을 활용한 손글씨 (0~9) 예측하는 다중분류"
      ],
      "metadata": {
        "id": "cg0v4FbWlce_"
      }
    },
    {
      "cell_type": "markdown",
      "source": [
        "## MNIST 데이터셋 준비하기"
      ],
      "metadata": {
        "id": "x8ijwuEclhhl"
      }
    },
    {
      "cell_type": "code",
      "execution_count": null,
      "metadata": {
        "colab": {
          "base_uri": "https://localhost:8080/"
        },
        "id": "wlWGw4yzlQZv",
        "outputId": "a673b61c-b8bb-44dc-d974-ab0415545983"
      },
      "outputs": [
        {
          "output_type": "stream",
          "name": "stdout",
          "text": [
            "Downloading data from https://storage.googleapis.com/tensorflow/tf-keras-datasets/mnist.npz\n",
            "11490434/11490434 [==============================] - 1s 0us/step\n"
          ]
        }
      ],
      "source": [
        "from keras.datasets.mnist import load_data\n",
        "\n",
        "# 케라스 저장소에서 데이터 다운로드\n",
        "(X_train, y_train), (X_test, y_test) = load_data(path='mnist.npz')"
      ]
    },
    {
      "cell_type": "markdown",
      "source": [
        "## MNIST 데이터 형태 확인하기"
      ],
      "metadata": {
        "id": "lGAEKdwNmLGk"
      }
    },
    {
      "cell_type": "markdown",
      "source": [
        "### 훈련 데이터셋"
      ],
      "metadata": {
        "id": "s_IVvTWcmNr-"
      }
    },
    {
      "cell_type": "code",
      "source": [
        "print('X_train.shape: ',X_train.shape)\n",
        "print('y_train.shape: ',y_train.shape)\n",
        "print('y_train ', y_train)"
      ],
      "metadata": {
        "colab": {
          "base_uri": "https://localhost:8080/"
        },
        "id": "jJysunf6lxOk",
        "outputId": "3f87aa97-0206-400a-d338-137ae61d4933"
      },
      "execution_count": null,
      "outputs": [
        {
          "output_type": "stream",
          "name": "stdout",
          "text": [
            "X_train.shape:  (60000, 28, 28)\n",
            "y_train.shape:  (60000,)\n",
            "y_train  [5 0 4 ... 5 6 8]\n"
          ]
        }
      ]
    },
    {
      "cell_type": "code",
      "source": [
        "print(X_train[1])"
      ],
      "metadata": {
        "colab": {
          "base_uri": "https://localhost:8080/"
        },
        "id": "M6o7_4nJm2XF",
        "outputId": "318226ed-d35c-4510-cf35-07ba60976287"
      },
      "execution_count": null,
      "outputs": [
        {
          "output_type": "stream",
          "name": "stdout",
          "text": [
            "[[  0   0   0   0   0   0   0   0   0   0   0   0   0   0   0   0   0   0\n",
            "    0   0   0   0   0   0   0   0   0   0]\n",
            " [  0   0   0   0   0   0   0   0   0   0   0   0   0   0   0   0   0   0\n",
            "    0   0   0   0   0   0   0   0   0   0]\n",
            " [  0   0   0   0   0   0   0   0   0   0   0   0   0   0   0   0   0   0\n",
            "    0   0   0   0   0   0   0   0   0   0]\n",
            " [  0   0   0   0   0   0   0   0   0   0   0   0   0   0   0   0   0   0\n",
            "    0   0   0   0   0   0   0   0   0   0]\n",
            " [  0   0   0   0   0   0   0   0   0   0   0   0   0   0   0  51 159 253\n",
            "  159  50   0   0   0   0   0   0   0   0]\n",
            " [  0   0   0   0   0   0   0   0   0   0   0   0   0   0  48 238 252 252\n",
            "  252 237   0   0   0   0   0   0   0   0]\n",
            " [  0   0   0   0   0   0   0   0   0   0   0   0   0  54 227 253 252 239\n",
            "  233 252  57   6   0   0   0   0   0   0]\n",
            " [  0   0   0   0   0   0   0   0   0   0   0  10  60 224 252 253 252 202\n",
            "   84 252 253 122   0   0   0   0   0   0]\n",
            " [  0   0   0   0   0   0   0   0   0   0   0 163 252 252 252 253 252 252\n",
            "   96 189 253 167   0   0   0   0   0   0]\n",
            " [  0   0   0   0   0   0   0   0   0   0  51 238 253 253 190 114 253 228\n",
            "   47  79 255 168   0   0   0   0   0   0]\n",
            " [  0   0   0   0   0   0   0   0   0  48 238 252 252 179  12  75 121  21\n",
            "    0   0 253 243  50   0   0   0   0   0]\n",
            " [  0   0   0   0   0   0   0   0  38 165 253 233 208  84   0   0   0   0\n",
            "    0   0 253 252 165   0   0   0   0   0]\n",
            " [  0   0   0   0   0   0   0   7 178 252 240  71  19  28   0   0   0   0\n",
            "    0   0 253 252 195   0   0   0   0   0]\n",
            " [  0   0   0   0   0   0   0  57 252 252  63   0   0   0   0   0   0   0\n",
            "    0   0 253 252 195   0   0   0   0   0]\n",
            " [  0   0   0   0   0   0   0 198 253 190   0   0   0   0   0   0   0   0\n",
            "    0   0 255 253 196   0   0   0   0   0]\n",
            " [  0   0   0   0   0   0  76 246 252 112   0   0   0   0   0   0   0   0\n",
            "    0   0 253 252 148   0   0   0   0   0]\n",
            " [  0   0   0   0   0   0  85 252 230  25   0   0   0   0   0   0   0   0\n",
            "    7 135 253 186  12   0   0   0   0   0]\n",
            " [  0   0   0   0   0   0  85 252 223   0   0   0   0   0   0   0   0   7\n",
            "  131 252 225  71   0   0   0   0   0   0]\n",
            " [  0   0   0   0   0   0  85 252 145   0   0   0   0   0   0   0  48 165\n",
            "  252 173   0   0   0   0   0   0   0   0]\n",
            " [  0   0   0   0   0   0  86 253 225   0   0   0   0   0   0 114 238 253\n",
            "  162   0   0   0   0   0   0   0   0   0]\n",
            " [  0   0   0   0   0   0  85 252 249 146  48  29  85 178 225 253 223 167\n",
            "   56   0   0   0   0   0   0   0   0   0]\n",
            " [  0   0   0   0   0   0  85 252 252 252 229 215 252 252 252 196 130   0\n",
            "    0   0   0   0   0   0   0   0   0   0]\n",
            " [  0   0   0   0   0   0  28 199 252 252 253 252 252 233 145   0   0   0\n",
            "    0   0   0   0   0   0   0   0   0   0]\n",
            " [  0   0   0   0   0   0   0  25 128 252 253 252 141  37   0   0   0   0\n",
            "    0   0   0   0   0   0   0   0   0   0]\n",
            " [  0   0   0   0   0   0   0   0   0   0   0   0   0   0   0   0   0   0\n",
            "    0   0   0   0   0   0   0   0   0   0]\n",
            " [  0   0   0   0   0   0   0   0   0   0   0   0   0   0   0   0   0   0\n",
            "    0   0   0   0   0   0   0   0   0   0]\n",
            " [  0   0   0   0   0   0   0   0   0   0   0   0   0   0   0   0   0   0\n",
            "    0   0   0   0   0   0   0   0   0   0]\n",
            " [  0   0   0   0   0   0   0   0   0   0   0   0   0   0   0   0   0   0\n",
            "    0   0   0   0   0   0   0   0   0   0]]\n"
          ]
        }
      ]
    },
    {
      "cell_type": "markdown",
      "source": [
        "### 테스트 데이터셋"
      ],
      "metadata": {
        "id": "FwoBmzOjngmg"
      }
    },
    {
      "cell_type": "code",
      "source": [
        "print('X_test.shape: ',X_test.shape)\n",
        "print('y_test.shape: ',y_test.shape)\n",
        "print('y_test ', y_test)"
      ],
      "metadata": {
        "colab": {
          "base_uri": "https://localhost:8080/"
        },
        "id": "S1m_ZKHNniwD",
        "outputId": "8bcbc083-d4bd-4ce9-ba2d-809073c164b7"
      },
      "execution_count": null,
      "outputs": [
        {
          "output_type": "stream",
          "name": "stdout",
          "text": [
            "X_test.shape:  (10000, 28, 28)\n",
            "y_test.shape:  (10000,)\n",
            "y_test  [7 2 1 ... 4 5 6]\n"
          ]
        }
      ]
    },
    {
      "cell_type": "markdown",
      "source": [
        "## 데이터 그려보기"
      ],
      "metadata": {
        "id": "V3laOPCNoPw_"
      }
    },
    {
      "cell_type": "code",
      "source": [
        "import matplotlib.pyplot as plt\n",
        "import numpy as np\n",
        "\n",
        "idx = 0 # n번쨰 인덱스 [5 0 4 ...]\n",
        "img = X_train[idx, :]\n",
        "label = y_train[idx]\n",
        "plt.figure()\n",
        "plt.imshow(img)\n",
        "plt.title('%d-th data, label is %d' % (idx, label))"
      ],
      "metadata": {
        "colab": {
          "base_uri": "https://localhost:8080/",
          "height": 470
        },
        "id": "23FLXNVSnisy",
        "outputId": "dba66c0f-5054-4aef-920b-7911669f1656"
      },
      "execution_count": null,
      "outputs": [
        {
          "output_type": "execute_result",
          "data": {
            "text/plain": [
              "Text(0.5, 1.0, '0-th data, label is 5')"
            ]
          },
          "metadata": {},
          "execution_count": 6
        },
        {
          "output_type": "display_data",
          "data": {
            "text/plain": [
              "<Figure size 640x480 with 1 Axes>"
            ],
            "image/png": "[encoded data removed]"
          },
          "metadata": {}
        }
      ]
    },
    {
      "cell_type": "markdown",
      "source": [
        "## 검증 데이터셋 만들기"
      ],
      "metadata": {
        "id": "QwTt60R8pb7k"
      }
    },
    {
      "cell_type": "code",
      "source": [
        "# 훈련 데이터셋 -> 훈련(70%, 42000건), 검증(30%, 18000건) 비율로 분리\n",
        "\n",
        "from sklearn.model_selection import train_test_split\n",
        "\n",
        "X_train, X_val, y_train, y_val = train_test_split(X_train, y_train, test_size = 0.3, random_state = 7)\n",
        "\n",
        "print('X_train.shape', X_train.shape)\n",
        "print('X_val.shape', X_val.shape)"
      ],
      "metadata": {
        "colab": {
          "base_uri": "https://localhost:8080/"
        },
        "id": "2yL6TKAypfv8",
        "outputId": "d2b4c9f8-3354-4a90-b85a-efaa6c00af99"
      },
      "execution_count": null,
      "outputs": [
        {
          "output_type": "stream",
          "name": "stdout",
          "text": [
            "X_train.shape (42000, 28, 28)\n",
            "X_val.shape (18000, 28, 28)\n"
          ]
        }
      ]
    },
    {
      "cell_type": "code",
      "source": [
        "print('X_train.shape', X_train.shape)\n",
        "print('X_val.shape', X_val.shape)"
      ],
      "metadata": {
        "colab": {
          "base_uri": "https://localhost:8080/"
        },
        "id": "PTsuUp7apfyA",
        "outputId": "50e9b6f9-a2c7-451c-c3d4-34720308a08f"
      },
      "execution_count": null,
      "outputs": [
        {
          "output_type": "stream",
          "name": "stdout",
          "text": [
            "X_train.shape (42000, 28, 28)\n",
            "X_val.shape (18000, 28, 28)\n"
          ]
        }
      ]
    },
    {
      "cell_type": "markdown",
      "source": [
        "## 모델 입력을 위한 데이터(손글씨) 전처리\n",
        "\n",
        "1.   2차원 배열(28,28) -> 1차원 배열(784)로 변결\n",
        "2.   스케일링(범위축소) -> 0-255 -> 0-1\n",
        "\n"
      ],
      "metadata": {
        "id": "csKwA_Clqsz4"
      }
    },
    {
      "cell_type": "markdown",
      "source": [
        "### 2차원 배열에서 1차원 배열로 변경"
      ],
      "metadata": {
        "id": "wHVk6YRLrlW3"
      }
    },
    {
      "cell_type": "code",
      "source": [
        "num_x_train = X_train.shape[0]\n",
        "num_x_val = X_val.shape[0]\n",
        "num_x_test = X_test.shape[0]\n",
        "\n",
        "print(num_x_train, num_x_val, num_x_test)"
      ],
      "metadata": {
        "colab": {
          "base_uri": "https://localhost:8080/"
        },
        "id": "bACCW8YKqstP",
        "outputId": "3c61cf92-da1c-4074-8f37-b214c9e902ca"
      },
      "execution_count": null,
      "outputs": [
        {
          "output_type": "stream",
          "name": "stdout",
          "text": [
            "42000 18000 10000\n"
          ]
        }
      ]
    },
    {
      "cell_type": "code",
      "source": [
        "X_train = X_train.reshape(num_x_train, 28*28)\n",
        "X_train.shape"
      ],
      "metadata": {
        "colab": {
          "base_uri": "https://localhost:8080/"
        },
        "id": "H9j9Tnr3qsq_",
        "outputId": "7719351d-dda9-42d7-b736-b43216f3953e"
      },
      "execution_count": null,
      "outputs": [
        {
          "output_type": "execute_result",
          "data": {
            "text/plain": [
              "(42000, 784)"
            ]
          },
          "metadata": {},
          "execution_count": 10
        }
      ]
    },
    {
      "cell_type": "code",
      "source": [
        "X_val = X_val.reshape(num_x_val, 28 * 28)\n",
        "X_val.shape"
      ],
      "metadata": {
        "colab": {
          "base_uri": "https://localhost:8080/"
        },
        "id": "m17MWwmWqsmJ",
        "outputId": "187f22db-fe2b-48e1-b00d-07cd8b33db3a"
      },
      "execution_count": null,
      "outputs": [
        {
          "output_type": "execute_result",
          "data": {
            "text/plain": [
              "(18000, 784)"
            ]
          },
          "metadata": {},
          "execution_count": 11
        }
      ]
    },
    {
      "cell_type": "code",
      "source": [
        "X_test = X_test.reshape(num_x_test, 28 * 28)\n",
        "X_test.shape"
      ],
      "metadata": {
        "colab": {
          "base_uri": "https://localhost:8080/"
        },
        "id": "8zfLkPKVqsjw",
        "outputId": "7d357cf9-b58a-461c-9dac-ea201852f5fb"
      },
      "execution_count": null,
      "outputs": [
        {
          "output_type": "execute_result",
          "data": {
            "text/plain": [
              "(10000, 784)"
            ]
          },
          "metadata": {},
          "execution_count": 12
        }
      ]
    },
    {
      "cell_type": "markdown",
      "source": [
        "### 데이터 스케일링(범위 축소)"
      ],
      "metadata": {
        "id": "7b_qhy9qtaoJ"
      }
    },
    {
      "cell_type": "code",
      "source": [
        "# 데이터의 범위가 동일 (0~255) -> (0~1) 표준환(MinMax)\n",
        "\n",
        "X_train = X_train/255\n",
        "X_val = X_val/255\n",
        "X_test = X_test/255\n",
        "\n",
        "print(X_train[0])"
      ],
      "metadata": {
        "colab": {
          "base_uri": "https://localhost:8080/"
        },
        "id": "FHVDrliIniXv",
        "outputId": "531d0630-cd06-438d-9cf5-0387017bda2b"
      },
      "execution_count": null,
      "outputs": [
        {
          "output_type": "stream",
          "name": "stdout",
          "text": [
            "[0.         0.         0.         0.         0.         0.\n",
            " 0.         0.         0.         0.         0.         0.\n",
            " 0.         0.         0.         0.         0.         0.\n",
            " 0.         0.         0.         0.         0.         0.\n",
            " 0.         0.         0.         0.         0.         0.\n",
            " 0.         0.         0.         0.         0.         0.\n",
            " 0.         0.         0.         0.         0.         0.\n",
            " 0.         0.         0.         0.         0.         0.\n",
            " 0.         0.         0.         0.         0.         0.\n",
            " 0.         0.         0.         0.         0.         0.\n",
            " 0.         0.         0.         0.         0.         0.\n",
            " 0.         0.         0.         0.         0.         0.\n",
            " 0.         0.         0.         0.         0.         0.\n",
            " 0.         0.         0.         0.         0.         0.\n",
            " 0.         0.         0.         0.         0.         0.\n",
            " 0.         0.         0.         0.         0.         0.\n",
            " 0.         0.         0.         0.         0.         0.\n",
            " 0.         0.         0.         0.         0.         0.\n",
            " 0.         0.         0.         0.         0.         0.\n",
            " 0.         0.         0.         0.         0.         0.\n",
            " 0.         0.         0.         0.         0.         0.\n",
            " 0.         0.         0.         0.         0.         0.\n",
            " 0.         0.         0.         0.         0.         0.\n",
            " 0.         0.         0.         0.         0.         0.\n",
            " 0.         0.         0.         0.         0.         0.\n",
            " 0.         0.         0.         0.12156863 0.76862745 0.99607843\n",
            " 0.15686275 0.         0.         0.         0.         0.\n",
            " 0.         0.         0.         0.         0.         0.\n",
            " 0.         0.         0.         0.         0.         0.\n",
            " 0.         0.         0.         0.         0.         0.\n",
            " 0.01568627 0.53333333 0.99215686 0.98431373 0.14901961 0.\n",
            " 0.         0.         0.         0.         0.         0.\n",
            " 0.         0.         0.         0.         0.         0.\n",
            " 0.         0.         0.         0.         0.         0.\n",
            " 0.         0.         0.         0.04313725 0.68627451 0.99215686\n",
            " 0.99215686 0.75686275 0.         0.         0.         0.\n",
            " 0.         0.         0.         0.         0.         0.\n",
            " 0.         0.         0.         0.         0.         0.\n",
            " 0.         0.         0.         0.         0.         0.\n",
            " 0.         0.08627451 0.52156863 0.61568627 0.99215686 0.75686275\n",
            " 0.         0.         0.         0.         0.         0.\n",
            " 0.         0.         0.         0.         0.         0.\n",
            " 0.         0.         0.         0.         0.         0.\n",
            " 0.         0.         0.         0.         0.         0.\n",
            " 0.         0.19607843 0.99215686 0.92156863 0.10588235 0.\n",
            " 0.         0.         0.         0.         0.         0.\n",
            " 0.         0.         0.         0.         0.         0.\n",
            " 0.         0.         0.         0.         0.         0.\n",
            " 0.         0.         0.         0.         0.         0.19607843\n",
            " 0.99215686 0.99215686 0.15294118 0.         0.         0.\n",
            " 0.         0.         0.         0.         0.         0.\n",
            " 0.         0.         0.         0.         0.         0.\n",
            " 0.         0.         0.         0.         0.         0.\n",
            " 0.         0.         0.         0.19607843 0.99215686 0.82352941\n",
            " 0.04313725 0.         0.         0.         0.         0.\n",
            " 0.         0.         0.         0.         0.         0.\n",
            " 0.         0.         0.         0.         0.         0.\n",
            " 0.         0.         0.         0.         0.         0.\n",
            " 0.         0.19607843 0.99215686 0.75686275 0.         0.\n",
            " 0.         0.         0.         0.         0.         0.\n",
            " 0.         0.         0.         0.         0.         0.\n",
            " 0.         0.         0.         0.         0.         0.\n",
            " 0.         0.         0.         0.         0.         0.19607843\n",
            " 0.99215686 0.85098039 0.0627451  0.         0.         0.\n",
            " 0.         0.         0.         0.         0.         0.\n",
            " 0.         0.         0.         0.         0.         0.\n",
            " 0.         0.         0.         0.         0.         0.\n",
            " 0.         0.         0.         0.19607843 0.99215686 0.75686275\n",
            " 0.         0.         0.         0.         0.         0.\n",
            " 0.         0.         0.         0.         0.         0.\n",
            " 0.         0.         0.         0.         0.         0.\n",
            " 0.         0.         0.         0.         0.         0.\n",
            " 0.         0.19607843 0.99215686 0.75686275 0.         0.\n",
            " 0.         0.         0.         0.         0.         0.\n",
            " 0.         0.         0.         0.         0.         0.\n",
            " 0.         0.         0.         0.         0.         0.\n",
            " 0.         0.         0.         0.         0.         0.19607843\n",
            " 0.99215686 0.75686275 0.         0.         0.         0.\n",
            " 0.         0.         0.         0.         0.         0.\n",
            " 0.         0.         0.         0.         0.         0.\n",
            " 0.         0.         0.         0.         0.         0.\n",
            " 0.         0.         0.         0.19607843 0.99215686 0.75686275\n",
            " 0.         0.         0.         0.         0.         0.\n",
            " 0.         0.         0.         0.         0.         0.\n",
            " 0.         0.         0.         0.         0.         0.\n",
            " 0.         0.         0.         0.         0.         0.\n",
            " 0.         0.30588235 0.99215686 0.65098039 0.         0.\n",
            " 0.         0.         0.         0.         0.         0.\n",
            " 0.         0.         0.         0.         0.         0.\n",
            " 0.         0.         0.         0.         0.         0.\n",
            " 0.         0.         0.         0.         0.         0.58431373\n",
            " 0.99215686 0.36862745 0.         0.         0.         0.\n",
            " 0.         0.         0.         0.         0.         0.\n",
            " 0.         0.         0.         0.         0.         0.\n",
            " 0.         0.         0.         0.         0.         0.\n",
            " 0.         0.         0.         0.58431373 0.99215686 0.36862745\n",
            " 0.         0.         0.         0.         0.         0.\n",
            " 0.         0.         0.         0.         0.         0.\n",
            " 0.         0.         0.         0.         0.         0.\n",
            " 0.         0.         0.         0.         0.         0.\n",
            " 0.         0.79607843 0.99215686 0.32156863 0.         0.\n",
            " 0.         0.         0.         0.         0.         0.\n",
            " 0.         0.         0.         0.         0.         0.\n",
            " 0.         0.         0.         0.         0.         0.\n",
            " 0.         0.         0.         0.         0.         0.97647059\n",
            " 0.98039216 0.13333333 0.         0.         0.         0.\n",
            " 0.         0.         0.         0.         0.         0.\n",
            " 0.         0.         0.         0.         0.         0.\n",
            " 0.         0.         0.         0.         0.         0.\n",
            " 0.         0.         0.         0.97647059 0.98431373 0.16078431\n",
            " 0.         0.         0.         0.         0.         0.\n",
            " 0.         0.         0.         0.         0.         0.\n",
            " 0.         0.         0.         0.         0.         0.\n",
            " 0.         0.         0.         0.         0.         0.\n",
            " 0.         0.51372549 0.81960784 0.         0.         0.\n",
            " 0.         0.         0.         0.         0.         0.\n",
            " 0.         0.         0.         0.         0.         0.\n",
            " 0.         0.         0.         0.         0.         0.\n",
            " 0.         0.         0.         0.         0.         0.\n",
            " 0.         0.         0.         0.         0.         0.\n",
            " 0.         0.         0.         0.         0.         0.\n",
            " 0.         0.         0.         0.         0.         0.\n",
            " 0.         0.         0.         0.         0.         0.\n",
            " 0.         0.         0.         0.         0.         0.\n",
            " 0.         0.         0.         0.         0.         0.\n",
            " 0.         0.         0.         0.         0.         0.\n",
            " 0.         0.         0.         0.         0.         0.\n",
            " 0.         0.         0.         0.         0.         0.\n",
            " 0.         0.         0.         0.         0.         0.\n",
            " 0.         0.         0.         0.         0.         0.\n",
            " 0.         0.         0.         0.        ]\n"
          ]
        }
      ]
    },
    {
      "cell_type": "markdown",
      "source": [
        "## 모델 입력을 위한 레이블(정답) 전처리"
      ],
      "metadata": {
        "id": "O7J-bK59vqWr"
      }
    },
    {
      "cell_type": "code",
      "source": [
        "from keras.utils import to_categorical\n",
        "\n",
        "print(y_train.shape, y_train[0])\n",
        "\n",
        "# 수치형 데이터 (0~9) -> 범주형 데이터 형태로 변경\n",
        "y_train = to_categorical(y_train)\n",
        "y_val = to_categorical(y_val)\n",
        "y_test = to_categorical(y_test)\n",
        "\n",
        "print(y_train.shape, y_train[0])"
      ],
      "metadata": {
        "colab": {
          "base_uri": "https://localhost:8080/"
        },
        "id": "aQt7LnV1vhaE",
        "outputId": "57039dd8-b185-4aae-e394-496d9d0f3a4d"
      },
      "execution_count": null,
      "outputs": [
        {
          "output_type": "stream",
          "name": "stdout",
          "text": [
            "(42000,) 1\n",
            "(42000, 10) [0. 1. 0. 0. 0. 0. 0. 0. 0. 0.]\n"
          ]
        }
      ]
    },
    {
      "cell_type": "code",
      "source": [
        "y_train[1]"
      ],
      "metadata": {
        "colab": {
          "base_uri": "https://localhost:8080/"
        },
        "id": "RKpDMX0JvhX1",
        "outputId": "94276067-8dd0-474e-b7d0-5d33b4f3f2f5"
      },
      "execution_count": null,
      "outputs": [
        {
          "output_type": "execute_result",
          "data": {
            "text/plain": [
              "array([0., 0., 0., 0., 1., 0., 0., 0., 0., 0.], dtype=float32)"
            ]
          },
          "metadata": {},
          "execution_count": 15
        }
      ]
    },
    {
      "cell_type": "markdown",
      "source": [
        "## 모델 구성하기"
      ],
      "metadata": {
        "id": "XHxcDvIj2LkB"
      }
    },
    {
      "cell_type": "code",
      "source": [
        "from keras.models import Sequential\n",
        "from keras.layers import Dense\n",
        "\n",
        "model = Sequential()\n",
        "model.add(Dense(64, activation='relu', input_shape=(784,))) # 첫번째 레이어 -> 반드시 입력을 넣어줘야함\n",
        "model.add(Dense(32, activation='relu'))\n",
        "model.add(Dense(10, activation='softmax')) # 마지막 레이어 -> 출력 (레이블 shape과 동일)"
      ],
      "metadata": {
        "id": "z_6lmyd9vhVr"
      },
      "execution_count": null,
      "outputs": []
    },
    {
      "cell_type": "markdown",
      "source": [
        "## 모델 설정하기"
      ],
      "metadata": {
        "id": "Xl1fgEeN43Pd"
      }
    },
    {
      "cell_type": "code",
      "source": [
        "model.compile(optimizer='adam', # 옵티마이저\n",
        "              loss='categorical_crossentropy', # 손실함수\n",
        "              metrics=['acc']) # 모니터링할 평가지표"
      ],
      "metadata": {
        "id": "0uTSra5AvhTi"
      },
      "execution_count": null,
      "outputs": []
    },
    {
      "cell_type": "markdown",
      "source": [
        "## 모델 학습하기"
      ],
      "metadata": {
        "id": "PBooxkCm5bpn"
      }
    },
    {
      "cell_type": "code",
      "source": [
        "history = model.fit(X_train, y_train, epochs=30, batch_size=128, validation_data=(X_val, y_val))"
      ],
      "metadata": {
        "colab": {
          "base_uri": "https://localhost:8080/"
        },
        "id": "PYapjhhZvhRK",
        "outputId": "4dd0e6d4-9ff5-4ecc-ab09-f22d4ea89f78"
      },
      "execution_count": null,
      "outputs": [
        {
          "output_type": "stream",
          "name": "stdout",
          "text": [
            "Epoch 1/30\n",
            "329/329 [==============================] - 7s 12ms/step - loss: 0.5018 - acc: 0.8553 - val_loss: 0.2609 - val_acc: 0.9283\n",
            "Epoch 2/30\n",
            "329/329 [==============================] - 4s 12ms/step - loss: 0.2118 - acc: 0.9387 - val_loss: 0.1915 - val_acc: 0.9469\n",
            "Epoch 3/30\n",
            "329/329 [==============================] - 4s 12ms/step - loss: 0.1562 - acc: 0.9541 - val_loss: 0.1803 - val_acc: 0.9480\n",
            "Epoch 4/30\n",
            "329/329 [==============================] - 4s 13ms/step - loss: 0.1280 - acc: 0.9621 - val_loss: 0.1579 - val_acc: 0.9542\n",
            "Epoch 5/30\n",
            "329/329 [==============================] - 3s 10ms/step - loss: 0.1080 - acc: 0.9682 - val_loss: 0.1342 - val_acc: 0.9621\n",
            "Epoch 6/30\n",
            "329/329 [==============================] - 5s 16ms/step - loss: 0.0889 - acc: 0.9740 - val_loss: 0.1213 - val_acc: 0.9651\n",
            "Epoch 7/30\n",
            "329/329 [==============================] - 4s 12ms/step - loss: 0.0775 - acc: 0.9772 - val_loss: 0.1187 - val_acc: 0.9664\n",
            "Epoch 8/30\n",
            "329/329 [==============================] - 3s 9ms/step - loss: 0.0683 - acc: 0.9792 - val_loss: 0.1097 - val_acc: 0.9677\n",
            "Epoch 9/30\n",
            "329/329 [==============================] - 4s 12ms/step - loss: 0.0599 - acc: 0.9822 - val_loss: 0.1114 - val_acc: 0.9671\n",
            "Epoch 10/30\n",
            "329/329 [==============================] - 4s 11ms/step - loss: 0.0522 - acc: 0.9850 - val_loss: 0.1055 - val_acc: 0.9692\n",
            "Epoch 11/30\n",
            "329/329 [==============================] - 4s 11ms/step - loss: 0.0457 - acc: 0.9867 - val_loss: 0.1093 - val_acc: 0.9696\n",
            "Epoch 12/30\n",
            "329/329 [==============================] - 3s 9ms/step - loss: 0.0405 - acc: 0.9882 - val_loss: 0.1197 - val_acc: 0.9681\n",
            "Epoch 13/30\n",
            "329/329 [==============================] - 4s 11ms/step - loss: 0.0365 - acc: 0.9898 - val_loss: 0.1161 - val_acc: 0.9669\n",
            "Epoch 14/30\n",
            "329/329 [==============================] - 3s 10ms/step - loss: 0.0319 - acc: 0.9911 - val_loss: 0.1084 - val_acc: 0.9711\n",
            "Epoch 15/30\n",
            "329/329 [==============================] - 2s 5ms/step - loss: 0.0288 - acc: 0.9919 - val_loss: 0.1142 - val_acc: 0.9709\n",
            "Epoch 16/30\n",
            "329/329 [==============================] - 2s 5ms/step - loss: 0.0259 - acc: 0.9928 - val_loss: 0.1120 - val_acc: 0.9707\n",
            "Epoch 17/30\n",
            "329/329 [==============================] - 2s 6ms/step - loss: 0.0221 - acc: 0.9939 - val_loss: 0.1154 - val_acc: 0.9704\n",
            "Epoch 18/30\n",
            "329/329 [==============================] - 2s 5ms/step - loss: 0.0200 - acc: 0.9945 - val_loss: 0.1179 - val_acc: 0.9713\n",
            "Epoch 19/30\n",
            "329/329 [==============================] - 2s 6ms/step - loss: 0.0187 - acc: 0.9949 - val_loss: 0.1202 - val_acc: 0.9708\n",
            "Epoch 20/30\n",
            "329/329 [==============================] - 2s 7ms/step - loss: 0.0149 - acc: 0.9961 - val_loss: 0.1208 - val_acc: 0.9707\n",
            "Epoch 21/30\n",
            "329/329 [==============================] - 2s 6ms/step - loss: 0.0129 - acc: 0.9968 - val_loss: 0.1248 - val_acc: 0.9712\n",
            "Epoch 22/30\n",
            "329/329 [==============================] - 3s 8ms/step - loss: 0.0124 - acc: 0.9966 - val_loss: 0.1313 - val_acc: 0.9707\n",
            "Epoch 23/30\n",
            "329/329 [==============================] - 3s 8ms/step - loss: 0.0098 - acc: 0.9977 - val_loss: 0.1282 - val_acc: 0.9716\n",
            "Epoch 24/30\n",
            "329/329 [==============================] - 3s 8ms/step - loss: 0.0112 - acc: 0.9970 - val_loss: 0.1433 - val_acc: 0.9689\n",
            "Epoch 25/30\n",
            "329/329 [==============================] - 3s 10ms/step - loss: 0.0163 - acc: 0.9948 - val_loss: 0.1297 - val_acc: 0.9732\n",
            "Epoch 26/30\n",
            "329/329 [==============================] - 2s 7ms/step - loss: 0.0073 - acc: 0.9981 - val_loss: 0.1373 - val_acc: 0.9714\n",
            "Epoch 27/30\n",
            "329/329 [==============================] - 4s 12ms/step - loss: 0.0059 - acc: 0.9987 - val_loss: 0.1357 - val_acc: 0.9728\n",
            "Epoch 28/30\n",
            "329/329 [==============================] - 3s 10ms/step - loss: 0.0077 - acc: 0.9980 - val_loss: 0.1412 - val_acc: 0.9723\n",
            "Epoch 29/30\n",
            "329/329 [==============================] - 4s 13ms/step - loss: 0.0054 - acc: 0.9988 - val_loss: 0.1472 - val_acc: 0.9711\n",
            "Epoch 30/30\n",
            "329/329 [==============================] - 4s 12ms/step - loss: 0.0048 - acc: 0.9992 - val_loss: 0.1419 - val_acc: 0.9728\n"
          ]
        }
      ]
    },
    {
      "cell_type": "markdown",
      "source": [
        "## 모델 학습 결과 분석\n",
        "\n",
        "*   epoch 5 이후 과대적합됨\n",
        "*   검증 데이터셋의 손실값은 상승하고, 훈련셋과 검증셋의 저확도의 거리가 점점 벌어짐\n",
        "*   epoch 5 까지만 학습시킨 모델로 평가 진행"
      ],
      "metadata": {
        "id": "KXDROfyA6NGe"
      }
    },
    {
      "cell_type": "code",
      "source": [
        "import matplotlib.pyplot as plt\n",
        "\n",
        "his_dict = history.history\n",
        "loss = his_dict['loss']\n",
        "val_loss = his_dict['val_loss'] # 검증 데이터가 있는 경우 ‘val_’ 수식어가 붙습니다.\n",
        "\n",
        "epochs = range(1, len(loss) + 1)\n",
        "fig = plt.figure(figsize = (10, 5))\n",
        "\n",
        "# 훈련 및 검증 손실 그리기\n",
        "ax1 = fig.add_subplot(1, 2, 1)\n",
        "ax1.plot(epochs, loss, color = 'blue', label = 'train_loss')\n",
        "ax1.plot(epochs, val_loss, color = 'orange', label = 'val_loss')\n",
        "ax1.set_title('train and val loss')\n",
        "ax1.set_xlabel('epochs')\n",
        "ax1.set_ylabel('loss')\n",
        "ax1.legend()\n",
        "\n",
        "acc = his_dict['acc']\n",
        "val_acc = his_dict['val_acc']\n",
        "\n",
        "# 훈련 및 검증 정확도 그리기\n",
        "ax2 = fig.add_subplot(1, 2, 2)\n",
        "ax2.plot(epochs, acc, color = 'blue', label = 'train_acc')\n",
        "ax2.plot(epochs, val_acc, color = 'orange', label = 'val_acc')\n",
        "ax2.set_title('train and val acc')\n",
        "ax2.set_xlabel('epochs')\n",
        "ax2.set_ylabel('loss')\n",
        "ax2.legend()\n",
        "\n",
        "plt.show()"
      ],
      "metadata": {
        "colab": {
          "base_uri": "https://localhost:8080/",
          "height": 381
        },
        "id": "bviiF9Us6SJ3",
        "outputId": "6ee3706d-23c9-4a6d-fb2d-3a000bbb4247"
      },
      "execution_count": null,
      "outputs": [
        {
          "output_type": "display_data",
          "data": {
            "text/plain": [
              "<Figure size 1000x500 with 2 Axes>"
            ],
            "image/png": "[encoded data removed]"
          },
          "metadata": {}
        }
      ]
    },
    {
      "cell_type": "markdown",
      "source": [
        "## 모델 수정 및 학습"
      ],
      "metadata": {
        "id": "nK2EtVG_8k6g"
      }
    },
    {
      "cell_type": "code",
      "source": [
        "# 모델 구성\n",
        "md_model = Sequential()\n",
        "md_model.add(Dense(64, activation = 'relu', input_shape=(784, ))) # 첫번째 레이어 -> 반드시 입력을 넣어줘야함\n",
        "md_model.add(Dense(32, activation = 'relu')) # hidden layer\n",
        "md_model.add(Dense(10, activation = 'softmax'))\n",
        "\n",
        "# 모델 설정\n",
        "md_model.compile(optimizer='adam', # 옵티마이저\n",
        "              loss = 'categorical_crossentropy', # 손실함수\n",
        "              metrics=['acc']) # 모니터링 할 평가지표\n",
        "\n",
        "# 모델 학습\n",
        "history = md_model.fit(X_train, y_train, epochs=5, batch_size=128, validation_data=(X_val, y_val))"
      ],
      "metadata": {
        "colab": {
          "base_uri": "https://localhost:8080/"
        },
        "id": "SrU4_Ilx6SP1",
        "outputId": "4c60d446-029d-4abc-c670-ac562e5cc49f"
      },
      "execution_count": null,
      "outputs": [
        {
          "output_type": "stream",
          "name": "stdout",
          "text": [
            "Epoch 1/5\n",
            "329/329 [==============================] - 7s 18ms/step - loss: 0.5094 - acc: 0.8573 - val_loss: 0.2563 - val_acc: 0.9304\n",
            "Epoch 2/5\n",
            "329/329 [==============================] - 3s 8ms/step - loss: 0.2051 - acc: 0.9413 - val_loss: 0.1894 - val_acc: 0.9471\n",
            "Epoch 3/5\n",
            "329/329 [==============================] - 2s 5ms/step - loss: 0.1537 - acc: 0.9554 - val_loss: 0.1757 - val_acc: 0.9481\n",
            "Epoch 4/5\n",
            "329/329 [==============================] - 2s 5ms/step - loss: 0.1252 - acc: 0.9627 - val_loss: 0.1411 - val_acc: 0.9612\n",
            "Epoch 5/5\n",
            "329/329 [==============================] - 2s 7ms/step - loss: 0.1027 - acc: 0.9703 - val_loss: 0.1295 - val_acc: 0.9634\n"
          ]
        }
      ]
    },
    {
      "cell_type": "code",
      "source": [
        "import matplotlib.pyplot as plt\n",
        "\n",
        "his_dict = history.history\n",
        "loss = his_dict['loss']\n",
        "val_loss = his_dict['val_loss'] # 검증 데이터가 있는 경우 ‘val_’ 수식어가 붙습니다.\n",
        "\n",
        "epochs = range(1, len(loss) + 1)\n",
        "fig = plt.figure(figsize = (10, 5))\n",
        "\n",
        "# 훈련 및 검증 손실 그리기\n",
        "ax1 = fig.add_subplot(1, 2, 1)\n",
        "ax1.plot(epochs, loss, color = 'blue', label = 'train_loss')\n",
        "ax1.plot(epochs, val_loss, color = 'orange', label = 'val_loss')\n",
        "ax1.set_title('train and val loss')\n",
        "ax1.set_xlabel('epochs')\n",
        "ax1.set_ylabel('loss')\n",
        "ax1.legend()\n",
        "\n",
        "acc = his_dict['acc']\n",
        "val_acc = his_dict['val_acc']\n",
        "\n",
        "# 훈련 및 검증 정확도 그리기\n",
        "ax2 = fig.add_subplot(1, 2, 2)\n",
        "ax2.plot(epochs, acc, color = 'blue', label = 'train_acc')\n",
        "ax2.plot(epochs, val_acc, color = 'orange', label = 'val_acc')\n",
        "ax2.set_title('train and val acc')\n",
        "ax2.set_xlabel('epochs')\n",
        "ax2.set_ylabel('loss')\n",
        "ax2.legend()\n",
        "\n",
        "plt.show()"
      ],
      "metadata": {
        "colab": {
          "base_uri": "https://localhost:8080/",
          "height": 377
        },
        "id": "nlR3p4WUDrj2",
        "outputId": "4beca936-4257-43a6-dce9-b1db23a460ae"
      },
      "execution_count": null,
      "outputs": [
        {
          "output_type": "display_data",
          "data": {
            "text/plain": [
              "<Figure size 1000x500 with 2 Axes>"
            ],
            "image/png": "[encoded data removed]"
          },
          "metadata": {}
        }
      ]
    },
    {
      "cell_type": "markdown",
      "source": [
        "## 모델 평가하기"
      ],
      "metadata": {
        "id": "Rhv2ZZt9Dswt"
      }
    },
    {
      "cell_type": "code",
      "source": [
        "md_model.evaluate(X_test, y_test)"
      ],
      "metadata": {
        "colab": {
          "base_uri": "https://localhost:8080/"
        },
        "id": "j9lKDJDZDvtQ",
        "outputId": "81e762e9-c94c-487f-b0da-48a8518b1ecb"
      },
      "execution_count": null,
      "outputs": [
        {
          "output_type": "stream",
          "name": "stdout",
          "text": [
            "313/313 [==============================] - 2s 6ms/step - loss: 0.1165 - acc: 0.9648\n"
          ]
        },
        {
          "output_type": "execute_result",
          "data": {
            "text/plain": [
              "[0.11651894450187683, 0.9648000001907349]"
            ]
          },
          "metadata": {},
          "execution_count": 22
        }
      ]
    },
    {
      "cell_type": "markdown",
      "source": [
        "### 예측값을 그려서 손글씨 확인하기"
      ],
      "metadata": {
        "id": "L9eY802BDxut"
      }
    },
    {
      "cell_type": "code",
      "source": [
        "results = md_model.predict(X_test)\n",
        "arg_results = np.argmax(results, axis=1) # 가장 큰 값의 인덱스 확인\n",
        "\n",
        "plt.imshow(X_test[0].reshape(28,28))\n",
        "plt.title('Predict value of first image : '+ str(arg_results[0]))\n",
        "plt.show()"
      ],
      "metadata": {
        "colab": {
          "base_uri": "https://localhost:8080/",
          "height": 470
        },
        "id": "cVqvraqdDzSd",
        "outputId": "948499ef-4a75-4e1d-bd4f-e5f004557e10"
      },
      "execution_count": null,
      "outputs": [
        {
          "output_type": "stream",
          "name": "stdout",
          "text": [
            "313/313 [==============================] - 1s 2ms/step\n"
          ]
        },
        {
          "output_type": "display_data",
          "data": {
            "text/plain": [
              "<Figure size 640x480 with 1 Axes>"
            ],
            "image/png": "[encoded data removed]"
          },
          "metadata": {}
        }
      ]
    },
    {
      "cell_type": "code",
      "source": [
        "results = md_model.predict(X_test)\n",
        "arg_results = np.argmax(results, axis=1) # 가장 큰 값의 인덱스 확인\n",
        "\n",
        "plt.imshow(X_test[1].reshape(28,28))\n",
        "plt.title('Predict value of first image : '+ str(arg_results[1]))\n",
        "plt.show()"
      ],
      "metadata": {
        "colab": {
          "base_uri": "https://localhost:8080/",
          "height": 470
        },
        "id": "9YEvhSsKD09y",
        "outputId": "cd6acecb-0e71-4f8f-ad93-90b3d70c00d4"
      },
      "execution_count": null,
      "outputs": [
        {
          "output_type": "stream",
          "name": "stdout",
          "text": [
            "313/313 [==============================] - 1s 3ms/step\n"
          ]
        },
        {
          "output_type": "display_data",
          "data": {
            "text/plain": [
              "<Figure size 640x480 with 1 Axes>"
            ],
            "image/png": "[encoded data removed]"
          },
          "metadata": {}
        }
      ]
    },
    {
      "cell_type": "markdown",
      "source": [
        "## 모델 평가 방법 - 혼동 행렬\n",
        "\n",
        "\n",
        "*   정확도가 떨어지는 (헷갈리는) 손글씨 확인\n",
        "*   숫자 5에 대한 데이터를 추가 수집하여, 재학습\n",
        "\n"
      ],
      "metadata": {
        "id": "8w7KNex9D3U5"
      }
    },
    {
      "cell_type": "code",
      "source": [
        "from sklearn.metrics import classification_report, confusion_matrix\n",
        "import seaborn as sns\n",
        "\n",
        "# 모델 예측\n",
        "y_pred = md_model.predict(X_test)\n",
        "\n",
        "# 혼동 행렬 그리기\n",
        "plt.figure(figsize=(7,7))\n",
        "cm = confusion_matrix(np.argmax(y_test, axis =1), np.argmax(y_pred, axis=1))\n",
        "sns.heatmap(cm, annot=True, fmt= 'd', cmap = 'Blues')\n",
        "plt.xlabel('predicted label')\n",
        "plt.ylabel('true label')\n",
        "plt.show()"
      ],
      "metadata": {
        "colab": {
          "base_uri": "https://localhost:8080/",
          "height": 637
        },
        "id": "xS8CVIXOD4rg",
        "outputId": "fa6d970b-7fda-45be-ab42-3152d68bc890"
      },
      "execution_count": null,
      "outputs": [
        {
          "output_type": "stream",
          "name": "stdout",
          "text": [
            "313/313 [==============================] - 1s 4ms/step\n"
          ]
        },
        {
          "output_type": "display_data",
          "data": {
            "text/plain": [
              "<Figure size 700x700 with 2 Axes>"
            ],
            "image/png": "[encoded data removed]"
          },
          "metadata": {}
        }
      ]
    },
    {
      "cell_type": "markdown",
      "source": [
        "## 모델 평가 방법 - 분류 보고서"
      ],
      "metadata": {
        "id": "RUd73vOKDSg2"
      }
    },
    {
      "cell_type": "code",
      "source": [
        "print('\\n', classification_report(np.argmax(y_test, axis = -1), np.argmax(results, axis = -1)))"
      ],
      "metadata": {
        "colab": {
          "base_uri": "https://localhost:8080/"
        },
        "id": "IOlQyULtDVE6",
        "outputId": "1201de82-87f7-4891-af87-4510e1d1ec73"
      },
      "execution_count": null,
      "outputs": [
        {
          "output_type": "stream",
          "name": "stdout",
          "text": [
            "\n",
            "               precision    recall  f1-score   support\n",
            "\n",
            "           0       0.96      0.99      0.97       980\n",
            "           1       0.98      0.99      0.98      1135\n",
            "           2       0.95      0.97      0.96      1032\n",
            "           3       0.97      0.95      0.96      1010\n",
            "           4       0.96      0.97      0.97       982\n",
            "           5       0.97      0.95      0.96       892\n",
            "           6       0.97      0.96      0.97       958\n",
            "           7       0.96      0.96      0.96      1028\n",
            "           8       0.94      0.96      0.95       974\n",
            "           9       0.97      0.94      0.96      1009\n",
            "\n",
            "    accuracy                           0.96     10000\n",
            "   macro avg       0.96      0.96      0.96     10000\n",
            "weighted avg       0.96      0.96      0.96     10000\n",
            "\n"
          ]
        }
      ]
    },
    {
      "cell_type": "markdown",
      "source": [
        "## 모델 성능 평가 지표 확인\n",
        "\n",
        "*   micro : 각각의 TP, FN, FP, TN 값들을 모두 합친 Total TP, FN, FP, TN 값들을 이용해 계산\n",
        "*   macro : 각각의 클래스에 따라 TP, FN, FP, TN 값들을 이용해서 평가지표를 계산한 후 그 값들의 평균을 사용\n",
        "*   weighted : 각 클래스에 해당하는 data 개수에 가중치를 주어 평균을 구하는 것\n"
      ],
      "metadata": {
        "id": "3MdvChbNcugT"
      }
    },
    {
      "cell_type": "code",
      "source": [
        "from sklearn import metrics\n",
        "\n",
        "# 모델 예측\n",
        "results = md_model.predict(X_test)\n",
        "\n",
        "y_pred = np.argmax(results, axis=1) # 예측\n",
        "y_true = np.argmax(y_test, axis=1) # 실제 정답\n",
        "\n",
        "pre_micro = metrics.precision_score(y_true, y_pred, average='micro')\n",
        "pre_macro = metrics.precision_score(y_true, y_pred, average='macro')\n",
        "pre_weighted = metrics.precision_score(y_true, y_pred, average='weighted')\n",
        "\n",
        "print('precision_score')\n",
        "print('micro : ', pre_micro)\n",
        "print('macro : ', pre_macro)\n",
        "print('weighted : ', pre_weighted)\n",
        "print('-' * 50)\n",
        "\n",
        "recall_micro = metrics.recall_score(y_true, y_pred, average='micro')\n",
        "recall_macro = metrics.recall_score(y_true, y_pred, average='macro')\n",
        "recall_weighted = metrics.recall_score(y_true, y_pred, average='weighted')\n",
        "\n",
        "print('recall_score')\n",
        "print('micro : ', recall_micro)\n",
        "print('macro : ', recall_macro)\n",
        "print('weighted : ', recall_weighted)\n",
        "print('-' * 50)\n",
        "\n",
        "f1_micro = metrics.f1_score(y_true, y_pred, average='micro')\n",
        "f1_macro = metrics.f1_score(y_true, y_pred, average='macro')\n",
        "f1_weighted = metrics.f1_score(y_true, y_pred, average='weighted')\n",
        "\n",
        "print('f1_score')\n",
        "print('micro : ', f1_micro)\n",
        "print('macro : ', f1_macro)\n",
        "print('weighted : ', f1_weighted)\n",
        "print('-' * 50)"
      ],
      "metadata": {
        "colab": {
          "base_uri": "https://localhost:8080/"
        },
        "id": "kKwG7D7EctyN",
        "outputId": "9ac2a69b-b9c6-4c87-9f5b-8a6a5ef4dbde"
      },
      "execution_count": null,
      "outputs": [
        {
          "output_type": "stream",
          "name": "stdout",
          "text": [
            "313/313 [==============================] - 1s 2ms/step\n",
            "precision_score\n",
            "micro :  0.9648\n",
            "macro :  0.9647861094238275\n",
            "weighted :  0.964909385183779\n",
            "--------------------------------------------------\n",
            "recall_score\n",
            "micro :  0.9648\n",
            "macro :  0.9644015164602802\n",
            "weighted :  0.9648\n",
            "--------------------------------------------------\n",
            "f1_score\n",
            "micro :  0.9648\n",
            "macro :  0.9645132790349351\n",
            "weighted :  0.9647755983150997\n",
            "--------------------------------------------------\n"
          ]
        }
      ]
    }
  ]
}